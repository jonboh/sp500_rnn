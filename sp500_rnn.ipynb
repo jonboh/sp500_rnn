{
 "cells": [
  {
   "cell_type": "code",
   "execution_count": 2,
   "metadata": {
    "scrolled": true
   },
   "outputs": [
    {
     "name": "stderr",
     "output_type": "stream",
     "text": [
      "C:\\Users\\Jon\\Anaconda3\\lib\\site-packages\\h5py\\__init__.py:36: FutureWarning: Conversion of the second argument of issubdtype from `float` to `np.floating` is deprecated. In future, it will be treated as `np.float64 == np.dtype(float).type`.\n",
      "  from ._conv import register_converters as _register_converters\n",
      "Using TensorFlow backend.\n"
     ]
    }
   ],
   "source": [
    "from IPython.core.debugger import set_trace\n",
    "\n",
    "from keras.utils.vis_utils import model_to_dot\n",
    "from IPython.display import SVG\n",
    "import pydot_ng as pydot\n",
    "\n",
    "\n",
    "import sys\n",
    "sys.path.append('../financial_utils/')\n",
    "\n",
    "import keras\n",
    "import tensorflow as tf\n",
    "import pandas as pd\n",
    "import numpy as np\n",
    "from sklearn.utils import shuffle\n",
    "\n",
    "%matplotlib notebook\n",
    "\n",
    "import matplotlib\n",
    "import matplotlib.pyplot as plt\n",
    "\n",
    "import performance as per"
   ]
  },
  {
   "cell_type": "markdown",
   "metadata": {},
   "source": [
    "# DATASET"
   ]
  },
  {
   "cell_type": "markdown",
   "metadata": {},
   "source": [
    "### Load and Compute Returns"
   ]
  },
  {
   "cell_type": "code",
   "execution_count": 181,
   "metadata": {
    "collapsed": true
   },
   "outputs": [],
   "source": [
    "price_table = pd.read_csv('history_files/SPY.csv')\n",
    "vol_table = pd.read_csv('history_files/VIX.csv')\n",
    "\n",
    "# Build Tick Table\n",
    "tick_table = price_table[[\"Date\",\"AdjClose\"]]\n",
    "tick_table.columns = [\"Date\", \"Tick\"]\n",
    "# Get Return Table\n",
    "returns = per.tick2ret(tick_table)\n",
    "returns_table = pd.DataFrame({'Date':tick_table.Date[1:], 'Return': returns[:,0]})\n",
    "returns_table = returns_table.set_index('Date')\n",
    "# Drop columns of Vol Table\n",
    "vol_table = vol_table[[\"Date\", \"Close\"]]\n",
    "vol_table.columns = [\"Date\", \"Vol\"]\n",
    "vol_table.Vol = vol_table.Vol/100\n",
    "vol_table = vol_table.set_index('Date')\n",
    "# InnerJoin\n",
    "retvol_table = pd.concat([returns_table,vol_table], join='inner', axis=1)\n"
   ]
  },
  {
   "cell_type": "code",
   "execution_count": 182,
   "metadata": {
    "collapsed": true
   },
   "outputs": [],
   "source": [
    "T_x = 2\n",
    "n_fields = 1\n",
    "T_y = 2\n",
    "T_stride = 1"
   ]
  },
  {
   "cell_type": "markdown",
   "metadata": {},
   "source": [
    "### Generate Dataset"
   ]
  },
  {
   "cell_type": "code",
   "execution_count": 200,
   "metadata": {
    "collapsed": true
   },
   "outputs": [],
   "source": [
    "def gen_dataset(T_x, T_y, n_fields, T_stride, retvol_table):\n",
    "    \"\"\"\n",
    "    \n",
    "    \n",
    "    return\n",
    "        x E (m, T_x)\n",
    "        y E (m, T_y)\n",
    "    \"\"\"\n",
    "    \n",
    "    m = int(np.floor((returns.shape[0] - T_x) / T_stride))\n",
    "    \n",
    "    x = np.nan * np.ones((m, T_x, n_fields))\n",
    "    y = np.nan * np.ones((m, T_y, n_fields))\n",
    "    \n",
    "    for i in range(m):\n",
    "        x[i,:,0] = retvol_table.Return[i*T_stride:i*T_stride+T_x].transpose()\n",
    "        x[i,:,0] = retvol_table.Vol[i*T_stride:i*T_stride+T_x].transpose()\n",
    "        y[i,:,0] = retvol_table.Return[i*T_stride+T_x:i*T_stride+T_x+T_y].transpose()\n",
    "        y[i,:,0] = retvol_table.Vol[i*T_stride+T_x:i*T_stride+T_x+T_y].transpose()\n",
    "\n",
    "    return x, y, m"
   ]
  },
  {
   "cell_type": "code",
   "execution_count": 201,
   "metadata": {
    "collapsed": true
   },
   "outputs": [],
   "source": [
    "def normalize_data(x, params=None):\n",
    "    \"\"\"\n",
    "    \n",
    "    return \n",
    "        x_norm\n",
    "        x_norm_param = (mean, std)\n",
    "    \"\"\"\n",
    "    if params == None:\n",
    "        mean = np.mean(x, axis=(0,1)) \n",
    "        std = np.std(x, axis=(0,1))\n",
    "    else:\n",
    "        mean = params[0]\n",
    "        std = params[1]\n",
    "    x_norm_param = (mean, std)\n",
    "    x_norm = (x - mean)/std\n",
    "    \n",
    "    return x_norm, x_norm_param"
   ]
  },
  {
   "cell_type": "code",
   "execution_count": 202,
   "metadata": {
    "collapsed": true
   },
   "outputs": [],
   "source": [
    "def denormalize_data(x_norm, x_norm_param):\n",
    "    \"\"\"\"\"\"\n",
    "    \n",
    "    mean = x_norm_param[0]\n",
    "    std = x_norm_param[1]\n",
    "    x = x_norm * std + mean\n",
    "    \n",
    "    return x"
   ]
  },
  {
   "cell_type": "code",
   "execution_count": 186,
   "metadata": {
    "scrolled": false
   },
   "outputs": [
    {
     "name": "stdout",
     "output_type": "stream",
     "text": [
      "Training Example: 6093\n",
      "X Shape: (6093, 2, 1)\n",
      "Y Shape: (6093, 2, 1)\n"
     ]
    }
   ],
   "source": [
    "x, y, m = gen_dataset(T_x,T_y, n_fields, T_stride,retvol_table)\n",
    "x, x_norm_param = normalize_data(x)\n",
    "y, _ = normalize_data(y, x_norm_param)\n",
    "print('Training Example: '+str(m))\n",
    "print('X Shape: '+str(x.shape))\n",
    "print('Y Shape: '+str(y.shape))"
   ]
  },
  {
   "cell_type": "markdown",
   "metadata": {},
   "source": [
    "### Train / Val / Test"
   ]
  },
  {
   "cell_type": "code",
   "execution_count": 187,
   "metadata": {
    "collapsed": true
   },
   "outputs": [],
   "source": [
    "train_end = int(m * 0.7)\n",
    "\n",
    "val_end = train_end + int(0.15 * m)\n",
    "\n",
    "x_train = x[0:train_end]\n",
    "x_val = x[train_end:val_end]\n",
    "x_test = x[val_end:]\n",
    "\n",
    "y_train = y[0:train_end]\n",
    "y_val = y[train_end:val_end]\n",
    "y_test = y[val_end:]"
   ]
  },
  {
   "cell_type": "markdown",
   "metadata": {},
   "source": [
    "# Keras Model"
   ]
  },
  {
   "cell_type": "markdown",
   "metadata": {},
   "source": [
    "### Encoder- Decoder"
   ]
  },
  {
   "cell_type": "code",
   "execution_count": 193,
   "metadata": {
    "collapsed": true
   },
   "outputs": [],
   "source": [
    "keras.backend.clear_session()\n",
    "\n",
    "n_a = 100\n",
    "\n",
    "encoder_LSTM = keras.layers.LSTM(units = n_a, return_state=True)\n",
    "decoder_LSTM = keras.layers.LSTM(units = n_a, return_state=True, return_sequences=True)\n",
    "\n",
    "flatter = keras.layers.Flatten()\n",
    "dense = keras.layers.Dense(units = 100, activation='relu')\n",
    "relu_out = keras.layers.Dense(units = n_fields, activation='relu')\n",
    "concatenator = keras.layers.Lambda(lambda x: keras.backend.stack(x, axis=1))\n",
    "last_slicor = keras.layers.Lambda(lambda x: x[:,-2:-1,:])"
   ]
  },
  {
   "cell_type": "code",
   "execution_count": 194,
   "metadata": {
    "collapsed": true
   },
   "outputs": [],
   "source": [
    "def define_model(T_x, T_y, n_fields, n_a):\n",
    "    \n",
    "    x_input = keras.layers.Input(shape=(T_x, n_fields))\n",
    "    output_seq = list()\n",
    "    \n",
    "    _, encoder_h, encoder_c = encoder_LSTM(x_input)  \n",
    "    \n",
    "    decoder_input = keras.layers.Input(shape=(1,n_a))\n",
    "    deco_input = decoder_input\n",
    "    decoder_h = encoder_h\n",
    "    decoder_c = encoder_c\n",
    "    \n",
    "    for _ in range(T_y):\n",
    "        decoder_outputs, decoder_h, decoder_c = decoder_LSTM(deco_input, initial_state=[decoder_h, decoder_c])\n",
    "        decoder_outputs_flat = flatter(decoder_outputs)\n",
    "        out = dense(decoder_outputs_flat)\n",
    "        out = relu_out(out)\n",
    "        \n",
    "        output_seq.append(out)\n",
    "        deco_input = decoder_outputs\n",
    "        \n",
    "    output_seq = concatenator(output_seq)\n",
    "    model = keras.models.Model(inputs=[x_input, decoder_input], outputs=output_seq)\n",
    "    return model"
   ]
  },
  {
   "cell_type": "code",
   "execution_count": 195,
   "metadata": {
    "scrolled": false
   },
   "outputs": [
    {
     "name": "stdout",
     "output_type": "stream",
     "text": [
      "__________________________________________________________________________________________________\n",
      "Layer (type)                    Output Shape         Param #     Connected to                     \n",
      "==================================================================================================\n",
      "input_1 (InputLayer)            (None, 2, 1)         0                                            \n",
      "__________________________________________________________________________________________________\n",
      "input_2 (InputLayer)            (None, 1, 100)       0                                            \n",
      "__________________________________________________________________________________________________\n",
      "lstm_1 (LSTM)                   [(None, 100), (None, 40800       input_1[0][0]                    \n",
      "__________________________________________________________________________________________________\n",
      "lstm_2 (LSTM)                   [(None, 1, 100), (No 80400       input_2[0][0]                    \n",
      "                                                                 lstm_1[0][1]                     \n",
      "                                                                 lstm_1[0][2]                     \n",
      "                                                                 lstm_2[0][0]                     \n",
      "                                                                 lstm_2[0][1]                     \n",
      "                                                                 lstm_2[0][2]                     \n",
      "__________________________________________________________________________________________________\n",
      "flatten_1 (Flatten)             (None, 100)          0           lstm_2[0][0]                     \n",
      "                                                                 lstm_2[1][0]                     \n",
      "__________________________________________________________________________________________________\n",
      "dense_1 (Dense)                 (None, 100)          10100       flatten_1[0][0]                  \n",
      "                                                                 flatten_1[1][0]                  \n",
      "__________________________________________________________________________________________________\n",
      "dense_2 (Dense)                 (None, 1)            101         dense_1[0][0]                    \n",
      "                                                                 dense_1[1][0]                    \n",
      "__________________________________________________________________________________________________\n",
      "lambda_1 (Lambda)               (None, 2, 1)         0           dense_2[0][0]                    \n",
      "                                                                 dense_2[1][0]                    \n",
      "==================================================================================================\n",
      "Total params: 131,401\n",
      "Trainable params: 131,401\n",
      "Non-trainable params: 0\n",
      "__________________________________________________________________________________________________\n"
     ]
    }
   ],
   "source": [
    "model = define_model(T_x, T_y, n_fields, n_a)\n",
    "model.summary()"
   ]
  },
  {
   "cell_type": "code",
   "execution_count": 196,
   "metadata": {
    "scrolled": true
   },
   "outputs": [],
   "source": [
    "optim = keras.optimizers.Adam(lr=0.001)\n",
    "model.compile(optimizer=optim, loss='mean_squared_error', metrics=['accuracy'])"
   ]
  },
  {
   "cell_type": "code",
   "execution_count": 197,
   "metadata": {},
   "outputs": [
    {
     "name": "stdout",
     "output_type": "stream",
     "text": [
      "Epoch 1/10\n",
      "4265/4265 [==============================] - 4s 839us/step - loss: 1.1809 - acc: 0.0000e+00\n",
      "Epoch 2/10\n",
      "4265/4265 [==============================] - 1s 226us/step - loss: 1.1809 - acc: 0.0000e+00\n",
      "Epoch 3/10\n",
      "4265/4265 [==============================] - 1s 226us/step - loss: 1.1809 - acc: 0.0000e+00\n",
      "Epoch 4/10\n",
      "4265/4265 [==============================] - 1s 225us/step - loss: 1.1809 - acc: 0.0000e+00\n",
      "Epoch 5/10\n",
      "4265/4265 [==============================] - 1s 226us/step - loss: 1.1809 - acc: 0.0000e+00\n",
      "Epoch 6/10\n",
      "4265/4265 [==============================] - 1s 227us/step - loss: 1.1809 - acc: 0.0000e+00\n",
      "Epoch 7/10\n",
      "4265/4265 [==============================] - 1s 225us/step - loss: 1.1809 - acc: 0.0000e+00\n",
      "Epoch 8/10\n",
      "4265/4265 [==============================] - 1s 225us/step - loss: 1.1809 - acc: 0.0000e+00\n",
      "Epoch 9/10\n",
      "4265/4265 [==============================] - 1s 226us/step - loss: 1.1809 - acc: 0.0000e+00\n",
      "Epoch 10/10\n",
      "4265/4265 [==============================] - 1s 230us/step - loss: 1.1809 - acc: 0.0000e+00\n"
     ]
    },
    {
     "data": {
      "text/plain": [
       "<keras.callbacks.History at 0x191dc041ba8>"
      ]
     },
     "execution_count": 197,
     "metadata": {},
     "output_type": "execute_result"
    }
   ],
   "source": [
    "decoder_in = np.zeros((x_train.shape[0],1,n_a))\n",
    "model.fit(x=[x_train,decoder_in], y=y_train, shuffle=True, epochs = 10)"
   ]
  },
  {
   "cell_type": "code",
   "execution_count": 198,
   "metadata": {
    "scrolled": true
   },
   "outputs": [
    {
     "name": "stdout",
     "output_type": "stream",
     "text": [
      "915/915 [==============================] - 0s 494us/step\n"
     ]
    },
    {
     "data": {
      "text/plain": [
       "[0.5148782923573353, 0.0]"
      ]
     },
     "execution_count": 198,
     "metadata": {},
     "output_type": "execute_result"
    }
   ],
   "source": [
    "decoder_in = np.zeros((x_test.shape[0],1,n_a))\n",
    "model.evaluate(x=[x_test,decoder_in], y=y_test)"
   ]
  },
  {
   "cell_type": "code",
   "execution_count": 199,
   "metadata": {
    "scrolled": false
   },
   "outputs": [
    {
     "name": "stdout",
     "output_type": "stream",
     "text": [
      "X:\n",
      "[[[0.1181]\n",
      "  [0.1264]]]\n",
      "Y:\n",
      "[[[0.1181]\n",
      "  [0.1264]]]\n",
      "LSTM Out:\n",
      "[[[0.]\n",
      "  [0.]]]\n",
      "Y pred:\n",
      "[[[0.19700148]\n",
      "  [0.19700148]]]\n"
     ]
    }
   ],
   "source": [
    "indexes = np.random.randint(0,x_test.shape[0], size=1)\n",
    "x_in = x_test[indexes,:,:]\n",
    "decoder_in = np.zeros((x_in.shape[0],1,n_a))\n",
    "y_true = y_test[indexes,:,:]\n",
    "y_pred = model.predict(x=[x_in,decoder_in])\n",
    "y_pred_denorm = denormalize_data(y_pred, x_norm_param)\n",
    "print('X:')\n",
    "print(denormalize_data(x_in,x_norm_param))\n",
    "print('Y:')\n",
    "print(denormalize_data(y_true,x_norm_param))\n",
    "print('LSTM Out:')\n",
    "print(y_pred)\n",
    "print('Y pred:')\n",
    "print(y_pred_denorm)"
   ]
  },
  {
   "cell_type": "code",
   "execution_count": 105,
   "metadata": {},
   "outputs": [
    {
     "data": {
      "text/plain": [
       "(array([0.00041687, 0.19703459]), array([0.01171749, 0.08144689]))"
      ]
     },
     "execution_count": 105,
     "metadata": {},
     "output_type": "execute_result"
    }
   ],
   "source": [
    "x_norm_param"
   ]
  },
  {
   "cell_type": "markdown",
   "metadata": {},
   "source": [
    "## SNIPPETS"
   ]
  },
  {
   "cell_type": "markdown",
   "metadata": {},
   "source": [
    "### Norm - Denorm Check"
   ]
  },
  {
   "cell_type": "code",
   "execution_count": null,
   "metadata": {
    "collapsed": true
   },
   "outputs": [],
   "source": [
    "a, b , m = gen_dataset(T_x,T_y,T_stride,retvol_table)\n",
    "x, x_norm_param = normalize_data(a)\n",
    "y, _ = normalize_data(b, x_norm_param)\n",
    "x = denormalize_data(x, x_norm_param)\n",
    "y = denormalize_data(y, x_norm_param)\n",
    "\n",
    "plt.figure()\n",
    "plt.hist((b-y).flatten(), 100)"
   ]
  }
 ],
 "metadata": {
  "kernelspec": {
   "display_name": "Python [default]",
   "language": "python",
   "name": "python3"
  },
  "language_info": {
   "codemirror_mode": {
    "name": "ipython",
    "version": 3
   },
   "file_extension": ".py",
   "mimetype": "text/x-python",
   "name": "python",
   "nbconvert_exporter": "python",
   "pygments_lexer": "ipython3",
   "version": "3.6.1"
  }
 },
 "nbformat": 4,
 "nbformat_minor": 2
}
