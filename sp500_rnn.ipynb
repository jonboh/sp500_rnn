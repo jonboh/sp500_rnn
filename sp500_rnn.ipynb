{
 "cells": [
  {
   "cell_type": "code",
   "execution_count": 1,
   "metadata": {
    "scrolled": true
   },
   "outputs": [
    {
     "name": "stderr",
     "output_type": "stream",
     "text": [
      "C:\\Users\\Jon\\Anaconda3\\lib\\site-packages\\h5py\\__init__.py:36: FutureWarning: Conversion of the second argument of issubdtype from `float` to `np.floating` is deprecated. In future, it will be treated as `np.float64 == np.dtype(float).type`.\n",
      "  from ._conv import register_converters as _register_converters\n",
      "Using TensorFlow backend.\n"
     ]
    }
   ],
   "source": [
    "from IPython.core.debugger import set_trace\n",
    "\n",
    "from keras.utils.vis_utils import model_to_dot\n",
    "from IPython.display import SVG\n",
    "import pydot_ng as pydot\n",
    "\n",
    "import sys\n",
    "sys.path.append('../financial_utils/')\n",
    "\n",
    "import keras\n",
    "import pandas as pd\n",
    "import numpy as np\n",
    "from sklearn.utils import shuffle\n",
    "\n",
    "import performance as per\n",
    "\n"
   ]
  },
  {
   "cell_type": "markdown",
   "metadata": {},
   "source": [
    "# DATASET"
   ]
  },
  {
   "cell_type": "markdown",
   "metadata": {},
   "source": [
    "### Load and Compute Returns"
   ]
  },
  {
   "cell_type": "code",
   "execution_count": 2,
   "metadata": {},
   "outputs": [],
   "source": [
    "price_table = pd.read_csv('history_files/SPY.csv')\n",
    "vol_table = pd.read_csv('history_files/VIX.csv')\n",
    "\n",
    "# Build Tick Table\n",
    "tick_table = price_table[[\"Date\",\"AdjClose\"]]\n",
    "tick_table.columns = [\"Date\", \"Tick\"]\n",
    "# Get Return Table\n",
    "returns = per.tick2ret(tick_table)\n",
    "returns_table = pd.DataFrame({'Date':tick_table.Date[1:], 'Return': returns[:,0]})\n",
    "returns_table = returns_table.set_index('Date')\n",
    "# Drop columns of Vol Table\n",
    "vol_table = vol_table[[\"Date\", \"Close\"]]\n",
    "vol_table.columns = [\"Date\", \"Vol\"]\n",
    "vol_table = vol_table.set_index('Date')\n",
    "# InnerJoin\n",
    "retvol_table = pd.concat([returns_table,vol_table], join='inner', axis=1)\n"
   ]
  },
  {
   "cell_type": "code",
   "execution_count": 3,
   "metadata": {
    "collapsed": true
   },
   "outputs": [],
   "source": [
    "T_x = 14\n",
    "x_width = retvol_table.shape[1]\n",
    "T_y = 1\n",
    "T_stride = 1"
   ]
  },
  {
   "cell_type": "markdown",
   "metadata": {},
   "source": [
    "### Generate Dataset"
   ]
  },
  {
   "cell_type": "code",
   "execution_count": 4,
   "metadata": {},
   "outputs": [],
   "source": [
    "def gen_dataset(T_x, T_y, T_stride, retvol_table):\n",
    "    \"\"\"\n",
    "    \n",
    "    \n",
    "    return\n",
    "        x E (m, T_x)\n",
    "        y E (m, T_y)\n",
    "    \"\"\"\n",
    "    \n",
    "    m = int(np.floor((returns.shape[0] - T_x) / T_stride))\n",
    "    \n",
    "    x = np.nan * np.ones((m, T_x, retvol_table.shape[1]))\n",
    "    y = np.nan * np.ones((m, T_y))\n",
    "    \n",
    "    for i in range(m):\n",
    "        x[i,:,0] = retvol_table.Return[i*T_stride:i*T_stride+T_x].transpose()\n",
    "        x[i,:,1] = retvol_table.Vol[i*T_stride:i*T_stride+T_x].transpose()\n",
    "        y[i] = retvol_table.Return[i*T_stride:i*T_stride+T_y].transpose()\n",
    "\n",
    "    return x, y, m"
   ]
  },
  {
   "cell_type": "code",
   "execution_count": 5,
   "metadata": {
    "scrolled": false
   },
   "outputs": [
    {
     "name": "stdout",
     "output_type": "stream",
     "text": [
      "Training Example: 6081\n",
      "X Shape: (6081, 14, 2)\n",
      "Y Shape: (6081, 1)\n"
     ]
    }
   ],
   "source": [
    "x, y, m = gen_dataset(T_x,T_y,T_stride,retvol_table)\n",
    "print('Training Example: '+str(m))\n",
    "print('X Shape: '+str(x.shape))\n",
    "print('Y Shape: '+str(y.shape))"
   ]
  },
  {
   "cell_type": "markdown",
   "metadata": {},
   "source": [
    "### Train / Val / Test"
   ]
  },
  {
   "cell_type": "code",
   "execution_count": 6,
   "metadata": {},
   "outputs": [],
   "source": [
    "train_end = int(m * 0.7)\n",
    "\n",
    "val_end = train_end + int(0.15 * m)\n",
    "\n",
    "x_train = x[0:train_end]\n",
    "x_val = x[train_end:val_end]\n",
    "x_test = x[val_end:]\n",
    "\n",
    "y_train = y[0:train_end]\n",
    "y_val = y[train_end:val_end]\n",
    "y_test = y[val_end:]"
   ]
  },
  {
   "cell_type": "markdown",
   "metadata": {},
   "source": [
    "# Keras Model"
   ]
  },
  {
   "cell_type": "code",
   "execution_count": 34,
   "metadata": {},
   "outputs": [],
   "source": [
    "keras.backend.clear_session()\n",
    "n_a = 10\n",
    "gru1 = keras.layers.GRU(units = n_a, return_sequences=True)\n",
    "flatter = keras.layers.Flatten()\n",
    "dense_out = keras.layers.Dense(units = 1, activation='relu')"
   ]
  },
  {
   "cell_type": "code",
   "execution_count": 35,
   "metadata": {},
   "outputs": [],
   "source": [
    "def define_model(T_x, x_width, T_y, n_a):\n",
    "    \n",
    "    x_input = keras.layers.Input(shape=(T_x,x_width))\n",
    "    s = x_input\n",
    "    outputs = list()\n",
    "    \n",
    "    for t in range(T_y):\n",
    "        s = gru1(s)\n",
    "        s_flat = flatter(s)\n",
    "        out = dense_out(s_flat)\n",
    "        \n",
    "        outputs.append(out)\n",
    "    \n",
    "    \n",
    "    model = keras.models.Model(inputs=x_input, outputs=outputs)\n",
    "    return model"
   ]
  },
  {
   "cell_type": "code",
   "execution_count": 36,
   "metadata": {},
   "outputs": [],
   "source": [
    "model = define_model(T_x, x_width, T_y, n_a)"
   ]
  },
  {
   "cell_type": "code",
   "execution_count": 37,
   "metadata": {
    "scrolled": true
   },
   "outputs": [
    {
     "name": "stdout",
     "output_type": "stream",
     "text": [
      "_________________________________________________________________\n",
      "Layer (type)                 Output Shape              Param #   \n",
      "=================================================================\n",
      "input_1 (InputLayer)         (None, 14, 2)             0         \n",
      "_________________________________________________________________\n",
      "gru_1 (GRU)                  (None, 14, 10)            390       \n",
      "_________________________________________________________________\n",
      "flatten_1 (Flatten)          (None, 140)               0         \n",
      "_________________________________________________________________\n",
      "dense_1 (Dense)              (None, 1)                 141       \n",
      "=================================================================\n",
      "Total params: 531\n",
      "Trainable params: 531\n",
      "Non-trainable params: 0\n",
      "_________________________________________________________________\n"
     ]
    }
   ],
   "source": [
    "model.summary()"
   ]
  },
  {
   "cell_type": "code",
   "execution_count": 38,
   "metadata": {
    "collapsed": true
   },
   "outputs": [],
   "source": [
    "optim = keras.optimizers.Adam()\n",
    "model.compile(optimizer=optim, loss='mse', metrics=['accuracy'])"
   ]
  },
  {
   "cell_type": "code",
   "execution_count": 39,
   "metadata": {
    "scrolled": true
   },
   "outputs": [
    {
     "name": "stdout",
     "output_type": "stream",
     "text": [
      "Epoch 1/10\n",
      "4256/4256 [==============================] - 2s 560us/step - loss: 1.5718e-04 - acc: 0.0117\n",
      "Epoch 2/10\n",
      "4256/4256 [==============================] - 1s 346us/step - loss: 1.5718e-04 - acc: 0.0117\n",
      "Epoch 3/10\n",
      "4256/4256 [==============================] - 1s 347us/step - loss: 1.5718e-04 - acc: 0.0117\n",
      "Epoch 4/10\n",
      "4256/4256 [==============================] - 1s 349us/step - loss: 1.5718e-04 - acc: 0.0117\n",
      "Epoch 5/10\n",
      "4256/4256 [==============================] - 1s 346us/step - loss: 1.5718e-04 - acc: 0.0117\n",
      "Epoch 6/10\n",
      "4256/4256 [==============================] - 1s 347us/step - loss: 1.5718e-04 - acc: 0.0117\n",
      "Epoch 7/10\n",
      "4256/4256 [==============================] - 1s 347us/step - loss: 1.5718e-04 - acc: 0.0117\n",
      "Epoch 8/10\n",
      "4256/4256 [==============================] - 1s 345us/step - loss: 1.5718e-04 - acc: 0.0117\n",
      "Epoch 9/10\n",
      "4256/4256 [==============================] - 1s 347us/step - loss: 1.5718e-04 - acc: 0.0117\n",
      "Epoch 10/10\n",
      "4256/4256 [==============================] - 1s 346us/step - loss: 1.5718e-04 - acc: 0.0117\n"
     ]
    },
    {
     "data": {
      "text/plain": [
       "<keras.callbacks.History at 0x27494809390>"
      ]
     },
     "execution_count": 39,
     "metadata": {},
     "output_type": "execute_result"
    }
   ],
   "source": [
    "s0 = np.zeros((m,n_a))\n",
    "c0 = np.zeros((m,n_a))\n",
    "model.fit(x=x_train, y=y_train, shuffle=True, epochs = 10)"
   ]
  },
  {
   "cell_type": "code",
   "execution_count": 43,
   "metadata": {},
   "outputs": [
    {
     "name": "stdout",
     "output_type": "stream",
     "text": [
      "913/913 [==============================] - 0s 77us/step\n"
     ]
    },
    {
     "data": {
      "text/plain": [
       "[6.435496008439553e-05, 0.002190580503833516]"
      ]
     },
     "execution_count": 43,
     "metadata": {},
     "output_type": "execute_result"
    }
   ],
   "source": [
    "model.evaluate(x=x_test, y=y_test)"
   ]
  },
  {
   "cell_type": "code",
   "execution_count": 44,
   "metadata": {
    "scrolled": false
   },
   "outputs": [
    {
     "data": {
      "text/plain": [
       "array([[0.],\n",
       "       [0.],\n",
       "       [0.],\n",
       "       [0.],\n",
       "       [0.],\n",
       "       [0.],\n",
       "       [0.],\n",
       "       [0.],\n",
       "       [0.],\n",
       "       [0.],\n",
       "       [0.],\n",
       "       [0.],\n",
       "       [0.],\n",
       "       [0.],\n",
       "       [0.],\n",
       "       [0.],\n",
       "       [0.],\n",
       "       [0.],\n",
       "       [0.],\n",
       "       [0.],\n",
       "       [0.],\n",
       "       [0.],\n",
       "       [0.],\n",
       "       [0.],\n",
       "       [0.],\n",
       "       [0.],\n",
       "       [0.],\n",
       "       [0.],\n",
       "       [0.],\n",
       "       [0.],\n",
       "       [0.],\n",
       "       [0.],\n",
       "       [0.],\n",
       "       [0.],\n",
       "       [0.],\n",
       "       [0.],\n",
       "       [0.],\n",
       "       [0.],\n",
       "       [0.],\n",
       "       [0.],\n",
       "       [0.],\n",
       "       [0.],\n",
       "       [0.],\n",
       "       [0.],\n",
       "       [0.],\n",
       "       [0.],\n",
       "       [0.],\n",
       "       [0.],\n",
       "       [0.]], dtype=float32)"
      ]
     },
     "execution_count": 44,
     "metadata": {},
     "output_type": "execute_result"
    }
   ],
   "source": [
    "model.predict(x_test[1:50,:,:])"
   ]
  },
  {
   "cell_type": "code",
   "execution_count": null,
   "metadata": {
    "collapsed": true
   },
   "outputs": [],
   "source": []
  }
 ],
 "metadata": {
  "kernelspec": {
   "display_name": "Python [default]",
   "language": "python",
   "name": "python3"
  },
  "language_info": {
   "codemirror_mode": {
    "name": "ipython",
    "version": 3
   },
   "file_extension": ".py",
   "mimetype": "text/x-python",
   "name": "python",
   "nbconvert_exporter": "python",
   "pygments_lexer": "ipython3",
   "version": "3.6.1"
  }
 },
 "nbformat": 4,
 "nbformat_minor": 2
}
