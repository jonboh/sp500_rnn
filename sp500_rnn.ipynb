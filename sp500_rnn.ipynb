{
 "cells": [
  {
   "cell_type": "code",
   "execution_count": 109,
   "metadata": {
    "scrolled": true
   },
   "outputs": [],
   "source": [
    "from IPython.core.debugger import set_trace\n",
    "\n",
    "from keras.utils.vis_utils import model_to_dot\n",
    "from IPython.display import SVG\n",
    "import pydot_ng as pydot\n",
    "\n",
    "import sys\n",
    "sys.path.append('../financial_utils/')\n",
    "\n",
    "import keras\n",
    "import tensorflow as tf\n",
    "import pandas as pd\n",
    "import numpy as np\n",
    "from sklearn.utils import shuffle\n",
    "\n",
    "import performance as per\n",
    "\n"
   ]
  },
  {
   "cell_type": "markdown",
   "metadata": {},
   "source": [
    "# DATASET"
   ]
  },
  {
   "cell_type": "markdown",
   "metadata": {},
   "source": [
    "### Load and Compute Returns"
   ]
  },
  {
   "cell_type": "code",
   "execution_count": 110,
   "metadata": {},
   "outputs": [],
   "source": [
    "price_table = pd.read_csv('history_files/SPY.csv')\n",
    "vol_table = pd.read_csv('history_files/VIX.csv')\n",
    "\n",
    "# Build Tick Table\n",
    "tick_table = price_table[[\"Date\",\"AdjClose\"]]\n",
    "tick_table.columns = [\"Date\", \"Tick\"]\n",
    "# Get Return Table\n",
    "returns = per.tick2ret(tick_table)\n",
    "returns_table = pd.DataFrame({'Date':tick_table.Date[1:], 'Return': returns[:,0]})\n",
    "returns_table = returns_table.set_index('Date')\n",
    "# Drop columns of Vol Table\n",
    "vol_table = vol_table[[\"Date\", \"Close\"]]\n",
    "vol_table.columns = [\"Date\", \"Vol\"]\n",
    "vol_table = vol_table.set_index('Date')\n",
    "# InnerJoin\n",
    "retvol_table = pd.concat([returns_table,vol_table], join='inner', axis=1)\n"
   ]
  },
  {
   "cell_type": "code",
   "execution_count": 124,
   "metadata": {
    "collapsed": true
   },
   "outputs": [],
   "source": [
    "T_x = 7\n",
    "n_fields = retvol_table.shape[1]\n",
    "T_y = 3\n",
    "T_stride = 1"
   ]
  },
  {
   "cell_type": "markdown",
   "metadata": {},
   "source": [
    "### Generate Dataset"
   ]
  },
  {
   "cell_type": "code",
   "execution_count": 125,
   "metadata": {},
   "outputs": [],
   "source": [
    "def gen_dataset(T_x, T_y, T_stride, retvol_table):\n",
    "    \"\"\"\n",
    "    \n",
    "    \n",
    "    return\n",
    "        x E (m, T_x)\n",
    "        y E (m, T_y)\n",
    "    \"\"\"\n",
    "    \n",
    "    m = int(np.floor((returns.shape[0] - T_x) / T_stride))\n",
    "    \n",
    "    x = np.nan * np.ones((m, T_x, retvol_table.shape[1]))\n",
    "    y = np.nan * np.ones((m, T_y, retvol_table.shape[1]))\n",
    "    \n",
    "    for i in range(m):\n",
    "        x[i,:,0] = retvol_table.Return[i*T_stride:i*T_stride+T_x].transpose()\n",
    "        x[i,:,1] = retvol_table.Vol[i*T_stride:i*T_stride+T_x].transpose()\n",
    "        y[i,:,0] = retvol_table.Return[i*T_stride:i*T_stride+T_y].transpose()\n",
    "        y[i,:,1] = retvol_table.Vol[i*T_stride:i*T_stride+T_y].transpose()\n",
    "\n",
    "    return x, y, m"
   ]
  },
  {
   "cell_type": "code",
   "execution_count": 126,
   "metadata": {
    "scrolled": false
   },
   "outputs": [
    {
     "name": "stdout",
     "output_type": "stream",
     "text": [
      "Training Example: 6088\n",
      "X Shape: (6088, 7, 2)\n",
      "Y Shape: (6088, 3, 2)\n"
     ]
    }
   ],
   "source": [
    "x, y, m = gen_dataset(T_x,T_y,T_stride,retvol_table)\n",
    "print('Training Example: '+str(m))\n",
    "print('X Shape: '+str(x.shape))\n",
    "print('Y Shape: '+str(y.shape))"
   ]
  },
  {
   "cell_type": "markdown",
   "metadata": {},
   "source": [
    "### Train / Val / Test"
   ]
  },
  {
   "cell_type": "code",
   "execution_count": 127,
   "metadata": {},
   "outputs": [],
   "source": [
    "train_end = int(m * 0.7)\n",
    "\n",
    "val_end = train_end + int(0.15 * m)\n",
    "\n",
    "x_train = x[0:train_end]\n",
    "x_val = x[train_end:val_end]\n",
    "x_test = x[val_end:]\n",
    "\n",
    "y_train = y[0:train_end]\n",
    "y_val = y[train_end:val_end]\n",
    "y_test = y[val_end:]"
   ]
  },
  {
   "cell_type": "markdown",
   "metadata": {},
   "source": [
    "# Keras Model"
   ]
  },
  {
   "cell_type": "code",
   "execution_count": 221,
   "metadata": {},
   "outputs": [],
   "source": [
    "keras.backend.clear_session()\n",
    "\n",
    "n_a = 10\n",
    "\n",
    "encoder_LSTM = keras.layers.LSTM(units = n_a, return_state=True)\n",
    "decoder_LSTM = keras.layers.LSTM(units = n_a, return_state=True, return_sequences=True)\n",
    "\n",
    "flatter = keras.layers.Flatten()\n",
    "dense_out = keras.layers.Dense(units = 2, activation='relu')\n",
    "concatenator = keras.layers.Lambda(lambda x: keras.backend.stack(x, axis=1))"
   ]
  },
  {
   "cell_type": "code",
   "execution_count": 222,
   "metadata": {},
   "outputs": [],
   "source": [
    "def define_model(T_x, T_y, n_fields, n_a):\n",
    "    \n",
    "    \n",
    "    x_input = keras.layers.Input(shape=(T_x, n_fields))\n",
    "    output_seq = list()\n",
    "    \n",
    "    _, encoder_h, encoder_c = encoder_LSTM(x_input)  \n",
    "    \n",
    "    \n",
    "    decoder_input = keras.layers.Input(shape=(1,n_a))\n",
    "    \n",
    "    for _ in range(T_y):\n",
    "        decoder_outputs, _,_ = decoder_LSTM(decoder_input, initial_state=[encoder_h, encoder_c])\n",
    "        decoder_outputs_flat = flatter(decoder_outputs)\n",
    "        out = dense_out(decoder_outputs_flat)\n",
    "        \n",
    "        output_seq.append(out)\n",
    "        decoder_inputs = out\n",
    "\n",
    "        \n",
    "    output_seq = concatenator(output_seq)\n",
    "   \n",
    "    model = keras.models.Model(inputs=[x_input, decoder_input], outputs=output_seq)\n",
    "    return model"
   ]
  },
  {
   "cell_type": "code",
   "execution_count": 223,
   "metadata": {},
   "outputs": [],
   "source": [
    "model = define_model(T_x, T_y, n_fields, n_a)"
   ]
  },
  {
   "cell_type": "code",
   "execution_count": 224,
   "metadata": {
    "scrolled": false
   },
   "outputs": [
    {
     "name": "stdout",
     "output_type": "stream",
     "text": [
      "__________________________________________________________________________________________________\n",
      "Layer (type)                    Output Shape         Param #     Connected to                     \n",
      "==================================================================================================\n",
      "input_1 (InputLayer)            (None, 7, 2)         0                                            \n",
      "__________________________________________________________________________________________________\n",
      "input_2 (InputLayer)            (None, 1, 10)        0                                            \n",
      "__________________________________________________________________________________________________\n",
      "lstm_1 (LSTM)                   [(None, 10), (None,  520         input_1[0][0]                    \n",
      "__________________________________________________________________________________________________\n",
      "lstm_2 (LSTM)                   [(None, 1, 10), (Non 840         input_2[0][0]                    \n",
      "                                                                 lstm_1[0][1]                     \n",
      "                                                                 lstm_1[0][2]                     \n",
      "                                                                 input_2[0][0]                    \n",
      "                                                                 lstm_1[0][1]                     \n",
      "                                                                 lstm_1[0][2]                     \n",
      "                                                                 input_2[0][0]                    \n",
      "                                                                 lstm_1[0][1]                     \n",
      "                                                                 lstm_1[0][2]                     \n",
      "__________________________________________________________________________________________________\n",
      "flatten_1 (Flatten)             (None, 10)           0           lstm_2[0][0]                     \n",
      "                                                                 lstm_2[1][0]                     \n",
      "                                                                 lstm_2[2][0]                     \n",
      "__________________________________________________________________________________________________\n",
      "dense_1 (Dense)                 (None, 2)            22          flatten_1[0][0]                  \n",
      "                                                                 flatten_1[1][0]                  \n",
      "                                                                 flatten_1[2][0]                  \n",
      "__________________________________________________________________________________________________\n",
      "lambda_1 (Lambda)               (None, 3, 2)         0           dense_1[0][0]                    \n",
      "                                                                 dense_1[1][0]                    \n",
      "                                                                 dense_1[2][0]                    \n",
      "==================================================================================================\n",
      "Total params: 1,382\n",
      "Trainable params: 1,382\n",
      "Non-trainable params: 0\n",
      "__________________________________________________________________________________________________\n"
     ]
    }
   ],
   "source": [
    "model.summary()"
   ]
  },
  {
   "cell_type": "code",
   "execution_count": 225,
   "metadata": {
    "collapsed": true
   },
   "outputs": [],
   "source": [
    "optim = keras.optimizers.Adam()\n",
    "model.compile(optimizer=optim, loss='mse', metrics=['accuracy'])"
   ]
  },
  {
   "cell_type": "code",
   "execution_count": 228,
   "metadata": {
    "scrolled": false
   },
   "outputs": [
    {
     "name": "stdout",
     "output_type": "stream",
     "text": [
      "Epoch 1/10\n",
      "4261/4261 [==============================] - 4s 1ms/step - loss: 232.7366 - acc: 0.6571\n",
      "Epoch 2/10\n",
      "4261/4261 [==============================] - 1s 279us/step - loss: 165.8624 - acc: 1.0000\n",
      "Epoch 3/10\n",
      "4261/4261 [==============================] - 1s 278us/step - loss: 125.5065 - acc: 1.0000\n",
      "Epoch 4/10\n",
      "4261/4261 [==============================] - 1s 279us/step - loss: 103.4696 - acc: 1.0000\n",
      "Epoch 5/10\n",
      "4261/4261 [==============================] - 1s 278us/step - loss: 88.8353 - acc: 1.0000\n",
      "Epoch 6/10\n",
      "4261/4261 [==============================] - 1s 279us/step - loss: 77.4405 - acc: 1.0000\n",
      "Epoch 7/10\n",
      "4261/4261 [==============================] - 1s 278us/step - loss: 68.2853 - acc: 1.0000\n",
      "Epoch 8/10\n",
      "4261/4261 [==============================] - 1s 277us/step - loss: 61.0493 - acc: 1.0000\n",
      "Epoch 9/10\n",
      "4261/4261 [==============================] - 1s 279us/step - loss: 55.3113 - acc: 1.0000\n",
      "Epoch 10/10\n",
      "4261/4261 [==============================] - 1s 279us/step - loss: 50.8587 - acc: 1.0000\n"
     ]
    },
    {
     "data": {
      "text/plain": [
       "<keras.callbacks.History at 0x2d2b296acc0>"
      ]
     },
     "execution_count": 228,
     "metadata": {},
     "output_type": "execute_result"
    }
   ],
   "source": [
    "decoder_in = np.zeros((x_train.shape[0],1,n_a))\n",
    "model.fit(x=[x_train,decoder_in], y=y_train, shuffle=True, epochs = 100)"
   ]
  },
  {
   "cell_type": "code",
   "execution_count": 229,
   "metadata": {
    "scrolled": true
   },
   "outputs": [
    {
     "name": "stdout",
     "output_type": "stream",
     "text": [
      "914/914 [==============================] - 1s 579us/step\n"
     ]
    },
    {
     "data": {
      "text/plain": [
       "[7.183763289086406, 1.0]"
      ]
     },
     "execution_count": 229,
     "metadata": {},
     "output_type": "execute_result"
    }
   ],
   "source": [
    "decoder_in = np.zeros((x_test.shape[0],1,n_a))\n",
    "model.evaluate(x=[x_test,decoder_in], y=y_test)"
   ]
  },
  {
   "cell_type": "code",
   "execution_count": 231,
   "metadata": {
    "scrolled": false
   },
   "outputs": [],
   "source": [
    "indexes = range(1,50)\n",
    "x_in = x_test[indexes,:,:]\n",
    "decoder_in = np.zeros((x_in.shape[0],1,n_a))\n",
    "y_true = y_test[indexes,:,:]\n",
    "y_pred = model.predict(x=[x_in,decoder_in])"
   ]
  },
  {
   "cell_type": "code",
   "execution_count": 232,
   "metadata": {},
   "outputs": [
    {
     "data": {
      "text/plain": [
       "array([[[ 0.      , 16.056507],\n",
       "        [ 0.      , 16.056507],\n",
       "        [ 0.      , 16.056507]],\n",
       "\n",
       "       [[ 0.      , 16.056606],\n",
       "        [ 0.      , 16.056606],\n",
       "        [ 0.      , 16.056606]],\n",
       "\n",
       "       [[ 0.      , 16.056711],\n",
       "        [ 0.      , 16.056711],\n",
       "        [ 0.      , 16.056711]],\n",
       "\n",
       "       [[ 0.      , 16.056742],\n",
       "        [ 0.      , 16.056742],\n",
       "        [ 0.      , 16.056742]],\n",
       "\n",
       "       [[ 0.      , 16.056787],\n",
       "        [ 0.      , 16.056787],\n",
       "        [ 0.      , 16.056787]],\n",
       "\n",
       "       [[ 0.      , 16.056835],\n",
       "        [ 0.      , 16.056835],\n",
       "        [ 0.      , 16.056835]],\n",
       "\n",
       "       [[ 0.      , 16.056856],\n",
       "        [ 0.      , 16.056856],\n",
       "        [ 0.      , 16.056856]],\n",
       "\n",
       "       [[ 0.      , 16.056816],\n",
       "        [ 0.      , 16.056816],\n",
       "        [ 0.      , 16.056816]],\n",
       "\n",
       "       [[ 0.      , 16.056787],\n",
       "        [ 0.      , 16.056787],\n",
       "        [ 0.      , 16.056787]],\n",
       "\n",
       "       [[ 0.      , 16.056673],\n",
       "        [ 0.      , 16.056673],\n",
       "        [ 0.      , 16.056673]],\n",
       "\n",
       "       [[ 0.      , 16.056492],\n",
       "        [ 0.      , 16.056492],\n",
       "        [ 0.      , 16.056492]],\n",
       "\n",
       "       [[ 0.      , 16.056368],\n",
       "        [ 0.      , 16.056368],\n",
       "        [ 0.      , 16.056368]],\n",
       "\n",
       "       [[ 0.      , 16.056282],\n",
       "        [ 0.      , 16.056282],\n",
       "        [ 0.      , 16.056282]],\n",
       "\n",
       "       [[ 0.      , 16.05624 ],\n",
       "        [ 0.      , 16.05624 ],\n",
       "        [ 0.      , 16.05624 ]],\n",
       "\n",
       "       [[ 0.      , 16.05619 ],\n",
       "        [ 0.      , 16.05619 ],\n",
       "        [ 0.      , 16.05619 ]],\n",
       "\n",
       "       [[ 0.      , 16.056032],\n",
       "        [ 0.      , 16.056032],\n",
       "        [ 0.      , 16.056032]],\n",
       "\n",
       "       [[ 0.      , 16.05589 ],\n",
       "        [ 0.      , 16.05589 ],\n",
       "        [ 0.      , 16.05589 ]],\n",
       "\n",
       "       [[ 0.      , 16.055817],\n",
       "        [ 0.      , 16.055817],\n",
       "        [ 0.      , 16.055817]],\n",
       "\n",
       "       [[ 0.      , 16.055868],\n",
       "        [ 0.      , 16.055868],\n",
       "        [ 0.      , 16.055868]],\n",
       "\n",
       "       [[ 0.      , 16.055895],\n",
       "        [ 0.      , 16.055895],\n",
       "        [ 0.      , 16.055895]],\n",
       "\n",
       "       [[ 0.      , 16.055876],\n",
       "        [ 0.      , 16.055876],\n",
       "        [ 0.      , 16.055876]],\n",
       "\n",
       "       [[ 0.      , 16.05583 ],\n",
       "        [ 0.      , 16.05583 ],\n",
       "        [ 0.      , 16.05583 ]],\n",
       "\n",
       "       [[ 0.      , 16.056002],\n",
       "        [ 0.      , 16.056002],\n",
       "        [ 0.      , 16.056002]],\n",
       "\n",
       "       [[ 0.      , 16.056267],\n",
       "        [ 0.      , 16.056267],\n",
       "        [ 0.      , 16.056267]],\n",
       "\n",
       "       [[ 0.      , 16.05641 ],\n",
       "        [ 0.      , 16.05641 ],\n",
       "        [ 0.      , 16.05641 ]],\n",
       "\n",
       "       [[ 0.      , 16.056528],\n",
       "        [ 0.      , 16.056528],\n",
       "        [ 0.      , 16.056528]],\n",
       "\n",
       "       [[ 0.      , 16.056702],\n",
       "        [ 0.      , 16.056702],\n",
       "        [ 0.      , 16.056702]],\n",
       "\n",
       "       [[ 0.      , 16.056797],\n",
       "        [ 0.      , 16.056797],\n",
       "        [ 0.      , 16.056797]],\n",
       "\n",
       "       [[ 0.      , 16.057022],\n",
       "        [ 0.      , 16.057022],\n",
       "        [ 0.      , 16.057022]],\n",
       "\n",
       "       [[ 0.      , 16.057177],\n",
       "        [ 0.      , 16.057177],\n",
       "        [ 0.      , 16.057177]],\n",
       "\n",
       "       [[ 0.      , 16.057236],\n",
       "        [ 0.      , 16.057236],\n",
       "        [ 0.      , 16.057236]],\n",
       "\n",
       "       [[ 0.      , 16.057217],\n",
       "        [ 0.      , 16.057217],\n",
       "        [ 0.      , 16.057217]],\n",
       "\n",
       "       [[ 0.      , 16.057138],\n",
       "        [ 0.      , 16.057138],\n",
       "        [ 0.      , 16.057138]],\n",
       "\n",
       "       [[ 0.      , 16.057068],\n",
       "        [ 0.      , 16.057068],\n",
       "        [ 0.      , 16.057068]],\n",
       "\n",
       "       [[ 0.      , 16.057178],\n",
       "        [ 0.      , 16.057178],\n",
       "        [ 0.      , 16.057178]],\n",
       "\n",
       "       [[ 0.      , 16.057043],\n",
       "        [ 0.      , 16.057043],\n",
       "        [ 0.      , 16.057043]],\n",
       "\n",
       "       [[ 0.      , 16.056767],\n",
       "        [ 0.      , 16.056767],\n",
       "        [ 0.      , 16.056767]],\n",
       "\n",
       "       [[ 0.      , 16.056408],\n",
       "        [ 0.      , 16.056408],\n",
       "        [ 0.      , 16.056408]],\n",
       "\n",
       "       [[ 0.      , 16.056194],\n",
       "        [ 0.      , 16.056194],\n",
       "        [ 0.      , 16.056194]],\n",
       "\n",
       "       [[ 0.      , 16.0561  ],\n",
       "        [ 0.      , 16.0561  ],\n",
       "        [ 0.      , 16.0561  ]],\n",
       "\n",
       "       [[ 0.      , 16.05601 ],\n",
       "        [ 0.      , 16.05601 ],\n",
       "        [ 0.      , 16.05601 ]],\n",
       "\n",
       "       [[ 0.      , 16.055643],\n",
       "        [ 0.      , 16.055643],\n",
       "        [ 0.      , 16.055643]],\n",
       "\n",
       "       [[ 0.      , 16.055496],\n",
       "        [ 0.      , 16.055496],\n",
       "        [ 0.      , 16.055496]],\n",
       "\n",
       "       [[ 0.      , 16.055477],\n",
       "        [ 0.      , 16.055477],\n",
       "        [ 0.      , 16.055477]],\n",
       "\n",
       "       [[ 0.      , 16.055521],\n",
       "        [ 0.      , 16.055521],\n",
       "        [ 0.      , 16.055521]],\n",
       "\n",
       "       [[ 0.      , 16.055576],\n",
       "        [ 0.      , 16.055576],\n",
       "        [ 0.      , 16.055576]],\n",
       "\n",
       "       [[ 0.      , 16.055622],\n",
       "        [ 0.      , 16.055622],\n",
       "        [ 0.      , 16.055622]],\n",
       "\n",
       "       [[ 0.      , 16.05559 ],\n",
       "        [ 0.      , 16.05559 ],\n",
       "        [ 0.      , 16.05559 ]],\n",
       "\n",
       "       [[ 0.      , 16.055534],\n",
       "        [ 0.      , 16.055534],\n",
       "        [ 0.      , 16.055534]]], dtype=float32)"
      ]
     },
     "execution_count": 232,
     "metadata": {},
     "output_type": "execute_result"
    }
   ],
   "source": [
    "y_pred"
   ]
  },
  {
   "cell_type": "code",
   "execution_count": null,
   "metadata": {
    "collapsed": true
   },
   "outputs": [],
   "source": []
  }
 ],
 "metadata": {
  "kernelspec": {
   "display_name": "Python [default]",
   "language": "python",
   "name": "python3"
  },
  "language_info": {
   "codemirror_mode": {
    "name": "ipython",
    "version": 3
   },
   "file_extension": ".py",
   "mimetype": "text/x-python",
   "name": "python",
   "nbconvert_exporter": "python",
   "pygments_lexer": "ipython3",
   "version": "3.6.1"
  }
 },
 "nbformat": 4,
 "nbformat_minor": 2
}
